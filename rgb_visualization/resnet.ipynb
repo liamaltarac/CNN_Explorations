{
 "cells": [
  {
   "cell_type": "code",
   "execution_count": 10,
   "metadata": {},
   "outputs": [],
   "source": [
    "import sys\n",
    "sys.path.append('../')\n",
    "\n",
    "import numpy as np\n",
    "from scipy import ndimage\n",
    "\n",
    "from skimage.filters import sobel_h\n",
    "from skimage.filters import sobel_v\n",
    "from scipy import stats\n",
    "\n",
    "\n",
    "import os\n",
    "import matplotlib\n",
    "import matplotlib.pyplot as plt\n",
    "import scienceplots\n",
    "\n",
    "from tensorflow.python.client import device_lib\n",
    "\n",
    "plt.rcParams['figure.figsize'] = [10,10]\n",
    "\n",
    "import tensorflow as tf\n",
    "from tensorflow.keras.preprocessing import image\n",
    "from tensorflow.keras.applications.vgg16 import decode_predictions\n",
    "from tensorflow.keras.applications.resnet import ResNet50\n",
    "\n",
    "from tensorflow.nn import depthwise_conv2d\n",
    "from tensorflow.math import multiply, reduce_sum, reduce_mean,reduce_euclidean_norm, sin, cos, abs\n",
    "from tensorflow import stack, concat, expand_dims\n",
    "\n",
    "import tensorflow_probability as tfp\n",
    "\n",
    "from utils.utils import *\n",
    "\n",
    "plt.style.use(['science', 'ieee'])\n",
    "plt.rcParams.update({'figure.dpi': '100'})"
   ]
  },
  {
   "cell_type": "markdown",
   "metadata": {},
   "source": [
    "#### Experiment #1 : $\\beta$ accross all layers (Top-10% filters)"
   ]
  },
  {
   "cell_type": "code",
   "execution_count": 2,
   "metadata": {},
   "outputs": [],
   "source": [
    "model = ResNet50(weights='imagenet',\n",
    "                  include_top=False,\n",
    "                  input_shape=(224, 224, 3))"
   ]
  },
  {
   "cell_type": "code",
   "execution_count": 3,
   "metadata": {},
   "outputs": [],
   "source": [
    "k = 10 # Top 20% highest l2-magnitude filters"
   ]
  },
  {
   "cell_type": "code",
   "execution_count": 4,
   "metadata": {},
   "outputs": [
    {
     "name": "stdout",
     "output_type": "stream",
     "text": [
      " ============ LAYER 1 ==================\n",
      "(3, 3, 64, 6)\n",
      " ============ LAYER 2 ==================\n",
      "(3, 3, 64, 6)\n",
      " ============ LAYER 3 ==================\n",
      "(3, 3, 128, 12)\n",
      " ============ LAYER 4 ==================\n",
      "(3, 3, 128, 12)\n",
      " ============ LAYER 5 ==================\n",
      "(3, 3, 128, 12)\n",
      " ============ LAYER 6 ==================\n",
      "(3, 3, 128, 12)\n",
      " ============ LAYER 7 ==================\n",
      "(3, 3, 256, 25)\n",
      " ============ LAYER 8 ==================\n",
      "(3, 3, 256, 25)\n",
      " ============ LAYER 9 ==================\n",
      "(3, 3, 256, 25)\n",
      " ============ LAYER 10 ==================\n",
      "(3, 3, 256, 25)\n",
      " ============ LAYER 11 ==================\n",
      "(3, 3, 256, 25)\n",
      " ============ LAYER 12 ==================\n",
      "(3, 3, 256, 25)\n",
      " ============ LAYER 13 ==================\n",
      "(3, 3, 512, 51)\n",
      " ============ LAYER 14 ==================\n",
      "(3, 3, 512, 51)\n",
      " ============ LAYER 15 ==================\n",
      "(3, 3, 512, 51)\n"
     ]
    },
    {
     "data": {
      "text/plain": [
       "[<matplotlib.lines.Line2D at 0x28dd8694608>]"
      ]
     },
     "execution_count": 4,
     "metadata": {},
     "output_type": "execute_result"
    },
    {
     "data": {
      "image/png": "[encoded data removed]",
      "text/plain": [
       "<Figure size 330x250 with 1 Axes>"
      ]
     },
     "metadata": {},
     "output_type": "display_data"
    }
   ],
   "source": [
    "conv_layers = []\n",
    "for l in model.layers:\n",
    "    if 'conv2d' in str(type(l)).lower():\n",
    "        if l.kernel_size == (3,3):\n",
    "            conv_layers.append(l)\n",
    "e_beta = []\n",
    "for l_num in range(1, len(conv_layers)):\n",
    "    print(f\" ============ LAYER {l_num} ==================\")\n",
    "    top10F=topKfilters(model, l_num, k=k)\n",
    "    filters = get_filter(model, l_num)[:,:,:, top10F]\n",
    "    print(filters.shape)\n",
    "    s, a = getSymAntiSymTF(filters)\n",
    "\n",
    "    a_energy = reduce_euclidean_norm(a, axis=[0,1])**2\n",
    "    s_energy = reduce_euclidean_norm(s, axis=[0,1])**2\n",
    "    total_energy  = reduce_euclidean_norm(filters, axis=[0,1])**2\n",
    "    e_beta.append(np.mean(a_energy/total_energy))\n",
    "\n",
    "    #print(np.mean(beta))\n",
    "\n",
    "plt.plot(e_beta)"
   ]
  },
  {
   "cell_type": "code",
   "execution_count": 25,
   "metadata": {},
   "outputs": [
    {
     "data": {
      "image/png": "[encoded data removed]",
      "text/plain": [
       "<Figure size 330x250 with 1 Axes>"
      ]
     },
     "metadata": {},
     "output_type": "display_data"
    }
   ],
   "source": [
    "plt.plot(e_beta)\n",
    "plt.xlabel(\"Layer\")\n",
    "plt.ylabel(r\"$\\text{E}[\\beta]$\")\n",
    "plt.xticks(np.arange(0, len(conv_layers)-1, step=1))\n",
    "plt.show()"
   ]
  }
 ],
 "metadata": {
  "kernelspec": {
   "display_name": "masters",
   "language": "python",
   "name": "python3"
  },
  "language_info": {
   "codemirror_mode": {
    "name": "ipython",
    "version": 3
   },
   "file_extension": ".py",
   "mimetype": "text/x-python",
   "name": "python",
   "nbconvert_exporter": "python",
   "pygments_lexer": "ipython3",
   "version": "3.7.16"
  }
 },
 "nbformat": 4,
 "nbformat_minor": 2
}
