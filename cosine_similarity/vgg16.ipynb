{
 "cells": [
  {
   "cell_type": "code",
   "execution_count": null,
   "metadata": {},
   "outputs": [],
   "source": [
    "import sys\n",
    "sys.path.append('../')\n",
    "\n",
    "import numpy as np\n",
    "from scipy import ndimage\n",
    "\n",
    "from skimage.filters import sobel_h\n",
    "from skimage.filters import sobel_v\n",
    "from scipy import stats\n",
    "\n",
    "\n",
    "import os\n",
    "import matplotlib\n",
    "import matplotlib.pyplot as plt\n",
    "import matplotlib.gridspec as gridspec\n",
    "\n",
    "import scienceplots\n",
    "from tensorflow.python.client import device_lib\n",
    "\n",
    "plt.rcParams['figure.figsize'] = [10,10]\n",
    "\n",
    "import tensorflow as tf\n",
    "from tensorflow.keras.preprocessing import image\n",
    "from tensorflow.keras.applications.vgg16 import decode_predictions\n",
    "from tensorflow.keras.applications import VGG16, ResNet50\n",
    "\n",
    "from tensorflow.nn import depthwise_conv2d\n",
    "from tensorflow.math import multiply, reduce_sum, reduce_mean,reduce_euclidean_norm, sin, cos, abs, reduce_variance, reduce_min, reduce_max\n",
    "from tensorflow import stack, concat, expand_dims\n",
    "\n",
    "import tensorflow_probability as tfp\n",
    "\n",
    "from utils.utils import *\n",
    "from utils.basic_units import *\n",
    "\n",
    "\n",
    "plt.style.use(['science', 'ieee'])\n",
    "plt.rcParams.update({'figure.dpi': '300'})"
   ]
  },
  {
   "cell_type": "markdown",
   "metadata": {},
   "source": [
    "#### Experiment #1 : $\\beta$ accross all layers (Top-10% filters)"
   ]
  },
  {
   "cell_type": "code",
   "execution_count": null,
   "metadata": {},
   "outputs": [],
   "source": [
    "model = VGG16(weights='imagenet',\n",
    "                  include_top=False,\n",
    "                  input_shape=(224, 224, 3))"
   ]
  },
  {
   "cell_type": "code",
   "execution_count": null,
   "metadata": {},
   "outputs": [],
   "source": [
    "k = 10 # Top 10% highest l2-magnitude filters"
   ]
  },
  {
   "cell_type": "code",
   "execution_count": null,
   "metadata": {},
   "outputs": [],
   "source": [
    "def get_F_angle(F):\n",
    "\t\n",
    "\tF = tf.expand_dims(F, -1)\n",
    "\t_, a = getSymAntiSymTF(F)\n",
    "\ta_mag = reduce_euclidean_norm(a, axis=[0,1])[:, 0]\n",
    "\tprint(a_mag.shape)\n",
    "\ttheta = getSobelTF(F)[:, 0]\n",
    "\t#print(a_mag.shape)\n",
    "\tx =a_mag*np.cos((theta))\n",
    "\ty = a_mag*np.sin((theta))\n",
    "\n",
    "\n",
    "\tcov = np.cov([x,y])\n",
    "\te_val, e_vec = np.linalg.eig(cov)\n",
    "\te_vec = e_vec[:, np.argmax(e_val)]\n",
    "\te_val = np.max(e_val)\n",
    "\tif e_vec[1] <0:\n",
    "\t\tpass\n",
    "\t\t#print(\"DOWN\", e_vec)\n",
    "\t'''if np.sign(e_vec[0]) != np.sign(x[np.argmax(np.abs(x))]):\n",
    "\t\te_vec *= -1'''\n",
    "\t\t#print(e_val, e_vec)\n",
    "\t#print(np.arctan2(e_vec[1], e_vec[0]))\n",
    "\treturn np.arctan2(e_vec[1], e_vec[0])"
   ]
  },
  {
   "cell_type": "code",
   "execution_count": null,
   "metadata": {},
   "outputs": [],
   "source": [
    "def rejection_sampling(X, Y, n_samples ):\n",
    "    from scipy.stats import gaussian_kde\n",
    "\n",
    "\n",
    "    # Range of X\n",
    "    X_min, X_max = 0, 1\n",
    "\n",
    "    # Estimate the empirical density of X using KDE\n",
    "    kde = gaussian_kde(X)\n",
    "    proposal_density = kde(X)\n",
    "\n",
    "    # Target is uniform, so the density is constant over the range\n",
    "    target_density = np.ones_like(X) / (X_max - X_min)\n",
    "\n",
    "    # Calculate importance weights\n",
    "    weights = target_density / proposal_density\n",
    "\n",
    "    # Normalize weights\n",
    "    weights /= np.sum(weights)\n",
    "\n",
    "    # Resample based on the weights\n",
    "    idx = np.random.choice(np.arange(len(X)), size=n_samples, p=weights)\n",
    "    print(idx)\n",
    "    return np.array(X)[idx], np.array(Y)[idx]"
   ]
  },
  {
   "cell_type": "code",
   "execution_count": null,
   "metadata": {},
   "outputs": [
    {
     "ename": "NameError",
     "evalue": "name 'model' is not defined",
     "output_type": "error",
     "traceback": [
      "\u001b[1;31m---------------------------------------------------------------------------\u001b[0m",
      "\u001b[1;31mNameError\u001b[0m                                 Traceback (most recent call last)",
      "\u001b[1;32m~\\AppData\\Local\\Temp\\ipykernel_11520\\3481977515.py\u001b[0m in \u001b[0;36m<module>\u001b[1;34m\u001b[0m\n\u001b[0;32m      1\u001b[0m \u001b[0mconv_layers\u001b[0m \u001b[1;33m=\u001b[0m \u001b[1;33m[\u001b[0m\u001b[1;33m]\u001b[0m\u001b[1;33m\u001b[0m\u001b[1;33m\u001b[0m\u001b[0m\n\u001b[1;32m----> 2\u001b[1;33m \u001b[1;32mfor\u001b[0m \u001b[0ml\u001b[0m \u001b[1;32min\u001b[0m \u001b[0mmodel\u001b[0m\u001b[1;33m.\u001b[0m\u001b[0mlayers\u001b[0m\u001b[1;33m:\u001b[0m\u001b[1;33m\u001b[0m\u001b[1;33m\u001b[0m\u001b[0m\n\u001b[0m\u001b[0;32m      3\u001b[0m         \u001b[1;32mif\u001b[0m \u001b[1;34m'conv2d'\u001b[0m \u001b[1;32min\u001b[0m \u001b[0mstr\u001b[0m\u001b[1;33m(\u001b[0m\u001b[0mtype\u001b[0m\u001b[1;33m(\u001b[0m\u001b[0ml\u001b[0m\u001b[1;33m)\u001b[0m\u001b[1;33m)\u001b[0m\u001b[1;33m.\u001b[0m\u001b[0mlower\u001b[0m\u001b[1;33m(\u001b[0m\u001b[1;33m)\u001b[0m\u001b[1;33m:\u001b[0m\u001b[1;33m\u001b[0m\u001b[1;33m\u001b[0m\u001b[0m\n\u001b[0;32m      4\u001b[0m                 \u001b[1;32mif\u001b[0m \u001b[0ml\u001b[0m\u001b[1;33m.\u001b[0m\u001b[0mkernel_size\u001b[0m \u001b[1;33m==\u001b[0m \u001b[1;33m(\u001b[0m\u001b[1;36m3\u001b[0m\u001b[1;33m,\u001b[0m\u001b[1;36m3\u001b[0m\u001b[1;33m)\u001b[0m\u001b[1;33m:\u001b[0m\u001b[1;33m\u001b[0m\u001b[1;33m\u001b[0m\u001b[0m\n\u001b[0;32m      5\u001b[0m                         \u001b[0mconv_layers\u001b[0m\u001b[1;33m.\u001b[0m\u001b[0mappend\u001b[0m\u001b[1;33m(\u001b[0m\u001b[0ml\u001b[0m\u001b[1;33m)\u001b[0m\u001b[1;33m\u001b[0m\u001b[1;33m\u001b[0m\u001b[0m\n",
      "\u001b[1;31mNameError\u001b[0m: name 'model' is not defined"
     ]
    }
   ],
   "source": [
    "conv_layers = []\n",
    "for l in model.layers:\n",
    "\tif 'conv2d' in str(type(l)).lower():\n",
    "\t\tif l.kernel_size == (3,3):\n",
    "\t\t\tconv_layers.append(l)\n",
    "\n",
    " \n",
    "l_num = -2\n",
    "#top10Fprev=topKfilters(model, l_num-1, k=100)\n",
    "filtersLprev = get_filter(model, l_num-1)\n",
    "#top10F=topKfilters(model, l_num, k=100)\n",
    "filtersL = get_filter(model, l_num)\n",
    "filtersL = filtersL\n",
    "\n",
    "\n",
    "print(\"FL\", filtersL.shape)\n",
    "\n",
    "# Get kernels magnitude and theta for layer L-1\n",
    "sp, ap = getSymAntiSymTF(filtersLprev)\n",
    "e_ap = reduce_euclidean_norm(ap, axis=[0,1])**2\n",
    "e_sp = reduce_euclidean_norm(sp, axis=[0,1])**2\n",
    "betap = e_ap/(e_ap+e_sp)\n",
    "\n",
    "\n",
    "# Get kernels magnitude and theta for layer L\n",
    "s, a = getSymAntiSymTF(filtersL)\n",
    "e_a = reduce_euclidean_norm(a, axis=[0,1])**2\n",
    "e_s = reduce_euclidean_norm(s, axis=[0,1])**2\n",
    "dc = np.sign(np.mean(filtersL, axis=(0,1)))\n",
    "\n",
    "beta = e_a/(e_a+e_s)\n",
    "\n",
    "\n",
    "\n",
    "mag = reduce_euclidean_norm(filtersL, axis=[0,1])\n",
    "\n",
    "theta = getSobelTF(filtersL)\n",
    " \n",
    "mag = (mag - reduce_min(mag, axis=0, keepdims=True))/(reduce_max(mag, axis=0, keepdims=True) - reduce_min(mag, axis=0, keepdims=True))\n",
    "\n",
    "print(\"AMAG\", mag.shape)\n",
    "\n",
    "\n",
    "#find lims :\n",
    "cos_sim = []\n",
    "m = []\n",
    "weight = []\n",
    "for i in range(filtersLprev.shape[-1]):\n",
    "\tprint(i)\n",
    "\ttheta_F_prev = get_F_angle(filtersLprev[:,:,:,i])\n",
    "\t\n",
    "\tcos_sim.extend(theta_F_prev - theta[i,:])#(np.cos(theta_F_prev - theta[i,:])))\n",
    "\tm.extend(mag[i, :].numpy()*dc[i,:])\n",
    "\tweight.extend(beta[i, :] * tf.reduce_mean(betap[:, i]))\n",
    "weight = np.array(m)\n",
    "m = np.array(m)\n",
    "\n",
    "\n",
    "\n",
    "\n",
    "'''print(\"M\", len(m))\n",
    "m, t= rejection_sampling(m, cos_sim, 5000)\n",
    "print(cos_sim)'''\n",
    "#fig.subplots_adjust(left=None, bottom=None, right=0.005, top=0.005)\n",
    "\n",
    "fig, ax= plt.subplots(1,1)\n",
    "\n",
    "data = np.array(cos_sim)\n",
    "data  = np.arctan2(np.sin(data), np.cos(data)) # (np.array(cos_sim) + np.pi) % (2 * np.pi) - np.pi\n",
    "ax.hist2d(data,m, bins=16)#, weights=weight)\n",
    "print(ax.get_xlim())\n",
    "data_min, data_max = np.min(data), np.max(data)\n",
    "\n",
    "# Set the tick marks at intervals of π\n",
    "tick_min = np.floor(data_min / np.pi) * np.pi  # Start at the lowest multiple of π\n",
    "tick_max = np.ceil(data_max / np.pi) * np.pi    # End at the highest multiple of π\n",
    "ticks = np.arange(tick_min, tick_max + np.pi, np.pi)  # Ticks spaced by π\n",
    "print(tick_min)\n",
    "# Format tick labels with π notation\n",
    "labels = [f\"{int(t / np.pi)}π\" if t != 0 else \"0\" for t in ticks]\n",
    "labels = [label.replace(\"π\", \"$\\\\pi$\").replace(\"1$\\\\pi$\", \"$\\\\pi$\") for label in labels]\n",
    "print(labels)\n",
    "# Set ticks and labels on the x-axis\n",
    "ax.set_xticks(ticks=ticks, labels=labels)\n",
    "\n",
    "\n",
    "\n",
    "\n",
    "#ax.convert_xunits(radians)\n",
    "ax.set_ylabel(r\"$\\cdot ||f||$ (scaled Min-Max)\", fontsize=7)\n",
    "#ax.set_ylabel(r\"Count\", fontsize=7)\n",
    "ax.set_xlabel(r\"$\\mathbf{\\theta}^{L}_{F[i, :]} - \\hat{\\theta}^{L-1}_{F[:, i]}$\", fontsize=7)\n",
    "ax.set_title(f\"Layer {l_num}\"+r\"$\\rightarrow$\"+f\"{l_num+1}\")\n",
    "\n",
    "\n",
    "plt.show() \n"
   ]
  },
  {
   "cell_type": "code",
   "execution_count": null,
   "metadata": {},
   "outputs": [
    {
     "data": {
      "text/plain": [
       "<BarContainer object of 16 artists>"
      ]
     },
     "execution_count": 7,
     "metadata": {},
     "output_type": "execute_result"
    },
    {
     "data": {
      "image/png": "[encoded data removed]",
      "text/plain": [
       "<Figure size 990x750 with 1 Axes>"
      ]
     },
     "metadata": {},
     "output_type": "display_data"
    }
   ],
   "source": [
    "\n",
    "vals = ax.hist2d(data,m, bins=16, weights=m)\n",
    "unweighted_vals = ax.hist2d(data,m, bins=16)\n",
    "\n",
    "w_counts = vals[0]\n",
    "\n",
    "uw_counts = unweighted_vals[0]\n",
    "\n",
    "sum_intensities = tf.reduce_sum(w_counts, axis=1)/tf.reduce_sum(uw_counts, axis=1)\n",
    "#plt.bar(sum_intensities, vals[1])\n",
    "vals[1].shape\n",
    "plt.bar(list(range(16)), sum_intensities)"
   ]
  },
  {
   "cell_type": "code",
   "execution_count": null,
   "metadata": {},
   "outputs": [
    {
     "data": {
      "text/plain": [
       "(array([7714.00585938, 3615.17382812, 2283.03027344, 2106.04467773,\n",
       "        2150.40478516, 2323.98901367, 3528.53442383, 7648.17919922,\n",
       "        7703.86669922, 3552.34204102, 2317.99560547, 2056.15356445,\n",
       "        2054.55639648, 2356.40551758, 3548.46582031, 7610.77050781]),\n",
       " array([-3.1415920e+00, -2.7488935e+00, -2.3561950e+00, -1.9634964e+00,\n",
       "        -1.5707979e+00, -1.1780993e+00, -7.8540075e-01, -3.9270222e-01,\n",
       "        -3.6954880e-06,  3.9269483e-01,  7.8539336e-01,  1.1780919e+00,\n",
       "         1.5707905e+00,  1.9634891e+00,  2.3561876e+00,  2.7488861e+00,\n",
       "         3.1415846e+00], dtype=float32),\n",
       " <BarContainer object of 16 artists>)"
      ]
     },
     "execution_count": 8,
     "metadata": {},
     "output_type": "execute_result"
    },
    {
     "data": {
      "image/png": "[encoded data removed]",
      "text/plain": [
       "<Figure size 990x750 with 1 Axes>"
      ]
     },
     "metadata": {},
     "output_type": "display_data"
    }
   ],
   "source": [
    "plt.hist(data, bins=16, weights=m)"
   ]
  },
  {
   "cell_type": "code",
   "execution_count": null,
   "metadata": {},
   "outputs": [
    {
     "data": {
      "text/plain": [
       "(array([29708., 15822., 10631.,  9619.,  9808., 10672., 15589., 29294.,\n",
       "        29586., 15738., 10786.,  9513.,  9496., 10978., 15619., 29285.]),\n",
       " array([-3.1415920e+00, -2.7488935e+00, -2.3561950e+00, -1.9634964e+00,\n",
       "        -1.5707979e+00, -1.1780993e+00, -7.8540075e-01, -3.9270222e-01,\n",
       "        -3.6954880e-06,  3.9269483e-01,  7.8539336e-01,  1.1780919e+00,\n",
       "         1.5707905e+00,  1.9634891e+00,  2.3561876e+00,  2.7488861e+00,\n",
       "         3.1415846e+00], dtype=float32),\n",
       " <BarContainer object of 16 artists>)"
      ]
     },
     "execution_count": 9,
     "metadata": {},
     "output_type": "execute_result"
    },
    {
     "data": {
      "image/png": "[encoded data removed]",
      "text/plain": [
       "<Figure size 990x750 with 1 Axes>"
      ]
     },
     "metadata": {},
     "output_type": "display_data"
    }
   ],
   "source": [
    "plt.hist(data, bins=16)"
   ]
  },
  {
   "cell_type": "code",
   "execution_count": null,
   "metadata": {},
   "outputs": [
    {
     "data": {
      "text/plain": [
       "(262144,)"
      ]
     },
     "execution_count": 10,
     "metadata": {},
     "output_type": "execute_result"
    }
   ],
   "source": [
    "weight.shape"
   ]
  },
  {
   "cell_type": "code",
   "execution_count": null,
   "metadata": {},
   "outputs": [
    {
     "data": {
      "text/plain": [
       "(array([7714.00585938, 3615.17382812, 2283.03027344, 2106.04467773,\n",
       "        2150.40478516, 2323.98901367, 3528.53442383, 7648.17919922,\n",
       "        7703.86669922, 3552.34204102, 2317.99560547, 2056.15356445,\n",
       "        2054.55639648, 2356.40551758, 3548.46582031, 7610.77050781]),\n",
       " array([-3.1415920e+00, -2.7488935e+00, -2.3561950e+00, -1.9634964e+00,\n",
       "        -1.5707979e+00, -1.1780993e+00, -7.8540075e-01, -3.9270222e-01,\n",
       "        -3.6954880e-06,  3.9269483e-01,  7.8539336e-01,  1.1780919e+00,\n",
       "         1.5707905e+00,  1.9634891e+00,  2.3561876e+00,  2.7488861e+00,\n",
       "         3.1415846e+00], dtype=float32),\n",
       " <BarContainer object of 16 artists>)"
      ]
     },
     "execution_count": 11,
     "metadata": {},
     "output_type": "execute_result"
    },
    {
     "data": {
      "image/png": "[encoded data removed]",
      "text/plain": [
       "<Figure size 990x750 with 1 Axes>"
      ]
     },
     "metadata": {},
     "output_type": "display_data"
    }
   ],
   "source": [
    "plt.hist(data, bins=16, weights=weight)"
   ]
  }
 ],
 "metadata": {
  "kernelspec": {
   "display_name": "masters",
   "language": "python",
   "name": "python3"
  },
  "language_info": {
   "codemirror_mode": {
    "name": "ipython",
    "version": 3
   },
   "file_extension": ".py",
   "mimetype": "text/x-python",
   "name": "python",
   "nbconvert_exporter": "python",
   "pygments_lexer": "ipython3",
   "version": "3.7.16"
  }
 },
 "nbformat": 4,
 "nbformat_minor": 2
}
