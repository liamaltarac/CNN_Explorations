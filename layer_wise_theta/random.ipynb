{
 "cells": [
  {
   "cell_type": "code",
   "execution_count": 1,
   "metadata": {},
   "outputs": [],
   "source": [
    "import sys\n",
    "sys.path.append('../')\n",
    "\n",
    "import numpy as np\n",
    "from scipy import ndimage\n",
    "\n",
    "from skimage.filters import sobel_h\n",
    "from skimage.filters import sobel_v\n",
    "from scipy import stats\n",
    "\n",
    "\n",
    "import os\n",
    "import matplotlib\n",
    "import matplotlib.pyplot as plt\n",
    "\n",
    "from tensorflow.python.client import device_lib\n",
    "\n",
    "plt.rcParams['figure.figsize'] = [10,10]\n",
    "\n",
    "import tensorflow as tf\n",
    "from tensorflow.keras.preprocessing import image\n",
    "from tensorflow.keras.applications.vgg16 import decode_predictions\n",
    "from tensorflow.keras.applications import VGG16\n",
    "\n",
    "from tensorflow.nn import depthwise_conv2d\n",
    "from tensorflow.math import multiply, reduce_sum, reduce_mean,reduce_euclidean_norm, sin, cos, abs\n",
    "from tensorflow import stack, concat, expand_dims\n",
    "\n",
    "import tensorflow_probability as tfp\n",
    "\n",
    "from utils.utils import *"
   ]
  },
  {
   "cell_type": "markdown",
   "metadata": {},
   "source": [
    "#### Experiment #1 : $\\theta$ accross all layers (Top-10% filters)"
   ]
  },
  {
   "cell_type": "code",
   "execution_count": 2,
   "metadata": {},
   "outputs": [],
   "source": [
    "model = VGG16(weights=None,\n",
    "                  include_top=False,\n",
    "                  input_shape=(224, 224, 3))"
   ]
  },
  {
   "cell_type": "code",
   "execution_count": 3,
   "metadata": {},
   "outputs": [],
   "source": [
    "k = 10 # Top 10% highest l2-magnitude filters"
   ]
  },
  {
   "cell_type": "code",
   "execution_count": 6,
   "metadata": {},
   "outputs": [
    {
     "name": "stdout",
     "output_type": "stream",
     "text": [
      " ============ LAYER 0 ==================\n",
      "0.6508965\n",
      " ============ LAYER 1 ==================\n",
      "0.6707516\n",
      " ============ LAYER 2 ==================\n",
      "0.6655594\n",
      " ============ LAYER 3 ==================\n",
      "0.66671324\n",
      " ============ LAYER 4 ==================\n",
      "0.6662704\n",
      " ============ LAYER 5 ==================\n",
      "0.66731316\n",
      " ============ LAYER 6 ==================\n",
      "0.6663075\n",
      " ============ LAYER 7 ==================\n",
      "0.6662198\n",
      " ============ LAYER 8 ==================\n",
      "0.66688895\n",
      " ============ LAYER 9 ==================\n",
      "0.666555\n",
      " ============ LAYER 10 ==================\n",
      "0.6667354\n",
      " ============ LAYER 11 ==================\n",
      "0.6662605\n"
     ]
    }
   ],
   "source": [
    "conv_layers = []\n",
    "for l in model.layers:\n",
    "    if 'conv2d' in str(type(l)).lower():\n",
    "        conv_layers.append(l)\n",
    "\n",
    "for l_num, l in enumerate(conv_layers[:-1]):\n",
    "    print(f\" ============ LAYER {l_num} ==================\")\n",
    "    filters = get_filter(model, l_num)\n",
    "    s, a = getSymAntiSymTF(filters)\n",
    "    theta = getSobelTF(filters)\n",
    "    a_energy = reduce_euclidean_norm(a, axis=[0,1])**2\n",
    "    s_energy = reduce_euclidean_norm(s, axis=[0,1])**2\n",
    "    total_energy  = reduce_euclidean_norm(filters, axis=[0,1])**2\n",
    "    beta = a_energy/total_energy\n",
    "    print(np.mean(beta))"
   ]
  }
 ],
 "metadata": {
  "kernelspec": {
   "display_name": "masters",
   "language": "python",
   "name": "python3"
  },
  "language_info": {
   "codemirror_mode": {
    "name": "ipython",
    "version": 3
   },
   "file_extension": ".py",
   "mimetype": "text/x-python",
   "name": "python",
   "nbconvert_exporter": "python",
   "pygments_lexer": "ipython3",
   "version": "3.7.16"
  }
 },
 "nbformat": 4,
 "nbformat_minor": 2
}
