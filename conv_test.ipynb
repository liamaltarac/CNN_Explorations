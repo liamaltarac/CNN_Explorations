{
 "cells": [
  {
   "cell_type": "code",
   "execution_count": 20,
   "metadata": {},
   "outputs": [
    {
     "data": {
      "text/plain": [
       "array([[-1, -2, -1],\n",
       "       [ 2,  4,  2],\n",
       "       [-1, -2, -1]])"
      ]
     },
     "execution_count": 20,
     "metadata": {},
     "output_type": "execute_result"
    }
   ],
   "source": [
    "import numpy as np\n",
    "from scipy.signal import convolve2d\n",
    "\n",
    "x = np.array([[-1,-1],\n",
    "              [ 1 ,1]])\n",
    "\n",
    "y = np.array([[1, 1],\n",
    "              [-1,-1]])\n",
    "z = np.ones((2,2))\n",
    "\n",
    "convolve2d(x, y)"
   ]
  },
  {
   "cell_type": "code",
   "execution_count": 21,
   "metadata": {},
   "outputs": [
    {
     "data": {
      "text/plain": [
       "array([[-1, -2, -1],\n",
       "       [ 2,  4,  2],\n",
       "       [-1, -2, -1]])"
      ]
     },
     "execution_count": 21,
     "metadata": {},
     "output_type": "execute_result"
    }
   ],
   "source": [
    "\n",
    "convolve2d(y, x)"
   ]
  },
  {
   "cell_type": "code",
   "execution_count": 6,
   "metadata": {},
   "outputs": [
    {
     "data": {
      "text/plain": [
       "(array([[ 1.,  1.,  0., -1., -1.],\n",
       "        [ 2.,  2.,  0., -2., -2.],\n",
       "        [ 3.,  3.,  0., -3., -3.],\n",
       "        [ 2.,  2.,  0., -2., -2.],\n",
       "        [ 1.,  1.,  0., -1., -1.]]),\n",
       " array([[ 1.,  1.,  0., -1., -1.],\n",
       "        [ 2.,  2.,  0., -2., -2.],\n",
       "        [ 3.,  3.,  0., -3., -3.],\n",
       "        [ 2.,  2.,  0., -2., -2.],\n",
       "        [ 1.,  1.,  0., -1., -1.]]))"
      ]
     },
     "execution_count": 6,
     "metadata": {},
     "output_type": "execute_result"
    }
   ],
   "source": [
    "convolve2d(y,z), convolve2d(z,y)"
   ]
  }
 ],
 "metadata": {
  "kernelspec": {
   "display_name": "masters",
   "language": "python",
   "name": "python3"
  },
  "language_info": {
   "codemirror_mode": {
    "name": "ipython",
    "version": 3
   },
   "file_extension": ".py",
   "mimetype": "text/x-python",
   "name": "python",
   "nbconvert_exporter": "python",
   "pygments_lexer": "ipython3",
   "version": "3.7.16"
  }
 },
 "nbformat": 4,
 "nbformat_minor": 2
}
