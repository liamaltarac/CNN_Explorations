{
 "cells": [
  {
   "cell_type": "markdown",
   "metadata": {},
   "source": []
  },
  {
   "cell_type": "code",
   "execution_count": 84,
   "metadata": {},
   "outputs": [],
   "source": [
    "import sys\n",
    "sys.path.append('../')\n",
    "\n",
    "import gc\n",
    "import numpy as np\n",
    "from scipy import ndimage\n",
    "\n",
    "from skimage.filters import sobel_h\n",
    "from skimage.filters import sobel_v\n",
    "from scipy import stats\n",
    "\n",
    "#from sa_decomp_layer import SADecompLayer\n",
    "\n",
    "\n",
    "\n",
    "import os\n",
    "import matplotlib\n",
    "import matplotlib.pyplot as plt\n",
    "import matplotlib.gridspec as gridspec\n",
    "\n",
    "\n",
    "#tf.__version__\n",
    "from tensorflow.python.client import device_lib\n",
    "#print(device_lib.list_local_devices())\n",
    "\n",
    "plt.rcParams['figure.figsize'] = [10,10]\n",
    "\n",
    "import tensorflow as tf\n",
    "from tensorflow.keras.preprocessing import image\n",
    "from tensorflow.keras.applications.vgg16 import decode_predictions\n",
    "from tensorflow.keras.applications import VGG16, ResNet152, ResNet50\n",
    "\n",
    "from tensorflow.nn import depthwise_conv2d\n",
    "from tensorflow.math import multiply, reduce_sum, reduce_euclidean_norm, sin, cos, abs\n",
    "from tensorflow import stack, concat, expand_dims\n",
    "\n",
    "import tensorflow_probability as tfp\n",
    "from glob import glob\n",
    "\n",
    "\n",
    "from tensorflow.keras.utils import to_categorical\n",
    "from tensorflow.data import Dataset, AUTOTUNE\n",
    "from imagenet_utils.imagenet_clsloc2 import clsloc\n",
    "from imagenet_utils.load_images import load_images\n",
    "from imagenet_utils.preprocess import preprocess\n",
    "\n",
    "from utils.utils import *\n",
    "\n",
    "import keras\n",
    "from keras import layers\n",
    "\n",
    "from keras import backend as K\n",
    "\n",
    "import scienceplots\n",
    "\n",
    "plt.style.use(['science', 'ieee'])\n",
    "plt.rcParams.update({'figure.dpi': '600'})"
   ]
  },
  {
   "cell_type": "code",
   "execution_count": 85,
   "metadata": {},
   "outputs": [
    {
     "name": "stdout",
     "output_type": "stream",
     "text": [
      "(128, 128)\n"
     ]
    },
    {
     "data": {
      "image/png": "[encoded data removed]",
      "text/plain": [
       "<Figure size 600x600 with 1 Axes>"
      ]
     },
     "metadata": {},
     "output_type": "display_data"
    }
   ],
   "source": [
    "gc.collect()\n",
    "\n",
    "\n",
    "model = ResNet50(weights='imagenet',\n",
    "\t\t\t\t  include_top=True,\n",
    "\t\t\t\t  input_shape=(224, 224, 3))\n",
    "\n",
    "model.compile(loss=keras.losses.CategoricalCrossentropy(from_logits=False),            \n",
    "\t\t\tmetrics=[\n",
    "\t\t\t\tkeras.metrics.CategoricalAccuracy(name=\"accuracy\"),\n",
    "\t\t\t\tkeras.metrics.TopKCategoricalAccuracy(5, name=\"top-5-accuracy\"),])\n",
    "\n",
    "F = 7\n",
    "fig, ax = plt.subplots(1,1,figsize = (1,1))\n",
    "\n",
    "filters = get_filter(model,5)  #[:,:,:, top10F.indices.numpy()]\n",
    "filters = filters #/ np.sqrt(reduce_variance(filters, axis=None))\n",
    "theta = getSobelTF(filters)\n",
    "dc = np.sign(np.mean(filters, axis=(0,1)))\n",
    "#idx = tf.where(tf.less(dc[:, F],0))[:,0].numpy()\n",
    "s, a = getSymAntiSymTF(filters)\n",
    "a_mag = reduce_euclidean_norm(a, axis=[0,1])\n",
    "s_mag = reduce_euclidean_norm(s, axis=[0,1])\n",
    "mag = reduce_euclidean_norm(filters, axis=[0,1])\n",
    "print(mag.shape)\n",
    "x =a_mag[:,F]*np.cos((theta[:,F]))\n",
    "y = a_mag[:,F]*np.sin((theta[:,F]))\n",
    "lim_x = np.max(np.abs(x))\n",
    "lim_y = np.max(np.abs(y))\n",
    "lim = np.max([lim_x, lim_y])\n",
    "lim =np.max(np.abs(mag[:, F]))    \n",
    "lim*= 1\n",
    "\n",
    "ax.set_xlim(-lim, lim)\n",
    "ax.set_ylim(-lim, lim)\n",
    "ax.scatter(x,y, s=2, color='#E24A33')\n",
    "ax.set_box_aspect(1)\n",
    "ax.set_xticks([])\n",
    "ax.set_yticks([])\n",
    "ax.set_aspect('equal')\n",
    "ax.collections[0].set_rasterized(True)\n",
    "\n",
    "plt.show()\n"
   ]
  },
  {
   "cell_type": "code",
   "execution_count": 86,
   "metadata": {},
   "outputs": [
    {
     "name": "stdout",
     "output_type": "stream",
     "text": [
      "<keras.layers.convolutional.conv2d.Conv2D object at 0x00000137F94C15C8>\n",
      "<keras.layers.convolutional.conv2d.Conv2D object at 0x00000137F8724108>\n",
      "<keras.layers.convolutional.conv2d.Conv2D object at 0x00000137F87A3DC8>\n",
      "<keras.layers.convolutional.conv2d.Conv2D object at 0x00000137F89A6848>\n",
      "<keras.layers.convolutional.conv2d.Conv2D object at 0x0000013678C5C608>\n",
      "<keras.layers.convolutional.conv2d.Conv2D object at 0x00000137F94CA288>\n",
      "<keras.layers.convolutional.conv2d.Conv2D object at 0x000001380157FCC8>\n",
      "<keras.layers.convolutional.conv2d.Conv2D object at 0x000001360F232308>\n",
      "<keras.layers.convolutional.conv2d.Conv2D object at 0x00000137F8778D48>\n",
      "<keras.layers.convolutional.conv2d.Conv2D object at 0x00000136725A1888>\n",
      "<keras.layers.convolutional.conv2d.Conv2D object at 0x00000137F824E4C8>\n",
      "<keras.layers.convolutional.conv2d.Conv2D object at 0x00000137F823FD48>\n",
      "<keras.layers.convolutional.conv2d.Conv2D object at 0x00000137F895B0C8>\n",
      "<keras.layers.convolutional.conv2d.Conv2D object at 0x00000137F89C0148>\n",
      "<keras.layers.convolutional.conv2d.Conv2D object at 0x000001360F1F0888>\n",
      "<keras.layers.convolutional.conv2d.Conv2D object at 0x000001367900D808>\n",
      "<keras.layers.convolutional.conv2d.Conv2D object at 0x00000137F8983888>\n"
     ]
    }
   ],
   "source": [
    "conv_layers = []\n",
    "for l in model.layers:\n",
    "\tif 'conv2d' in str(type(l)).lower():\n",
    "\t\tif l.kernel_size == (3,3) or l.kernel_size == (7,7):\n",
    "\t\t\tconv_layers.append(l)\n",
    "\t\t\tprint(l)"
   ]
  },
  {
   "cell_type": "code",
   "execution_count": 87,
   "metadata": {},
   "outputs": [],
   "source": [
    "def rotate (model_original, layers)  :\n",
    "\tmodel = tf.keras.models.clone_model(model_original)\n",
    "\tmodel.set_weights(model_original.get_weights())\n",
    "\tconv_layers = []\n",
    "\tfor l in model.layers:\n",
    "\t\tif 'conv2d' in str(type(l)).lower():\n",
    "\t\t\tif l.kernel_size == (3,3) or l.kernel_size == (7,7):\n",
    "\t\t\t\tconv_layers.append(l)\n",
    "\t\t\t\tprint(l)\n",
    "\tfor l in layers:\n",
    "\t\tfilters, biases = conv_layers[l].get_weights()\n",
    "\t\tprint(conv_layers[l].name)\n",
    "\t\t# Reshape weights to (64 * 128, 3, 3) for batch processing\n",
    "\t\tk = filters.shape[0]\n",
    "\t\tweights_reshaped = tf.reshape(filters, (k, k,-1))\n",
    "\n",
    "\t\trotated_weights = tf.image.rot90(weights_reshaped, k=2)\n",
    "\t\trotated_weights = tf.reshape(rotated_weights, (k, k,filters.shape[-2],filters.shape[-1]))\n",
    "\t\t\n",
    "\t\tconv_layers[l].set_weights([rotated_weights, biases])\n",
    "\n",
    "\n",
    "\treturn model\n",
    "\n",
    "\t\t\n",
    "\n",
    "\n"
   ]
  },
  {
   "cell_type": "code",
   "execution_count": 88,
   "metadata": {},
   "outputs": [],
   "source": [
    "# Imagenet Validation Set location\n",
    "img = \"C:/ILSVRC2012_img_val/ILSVRC2012_val_00000028.JPEG\""
   ]
  },
  {
   "cell_type": "code",
   "execution_count": 89,
   "metadata": {},
   "outputs": [],
   "source": [
    "train_list = glob(\"C:/imagenette2/train/*/*.JPEG\")\n",
    "train_labels = glob(\"C:/imagenette2/train/*/*.JPEG\")\n",
    "train_labels = to_categorical([clsloc[os.path.normpath(str(path)).split(os.path.sep)[-2]] for path in train_labels], num_classes = 1000)\n",
    "\n",
    "\n",
    "trainDS = Dataset.from_tensor_slices((train_list, train_labels))\n",
    "trainDS = (trainDS\n",
    "\t.map(load_images)\n",
    "\t.map(preprocess)\n",
    "\t.cache()\n",
    "\t.batch(1)\n",
    "\t.prefetch(AUTOTUNE)\n",
    ")\n",
    "\n",
    "\n",
    "val_list = glob(\"C:/imagenette2/val/*/*.JPEG\")\n",
    "val_labels = glob(\"C:/imagenette2/val/*/*.JPEG\")\n",
    "val_labels = to_categorical([clsloc[os.path.normpath(str(path)).split(os.path.sep)[-2]] for path in val_list], num_classes = 1000)\n",
    "\n",
    "\n",
    "valDS = Dataset.from_tensor_slices((val_list, val_labels))\n",
    "valDS = (valDS\n",
    "\t.map(load_images)\n",
    "\t.map(preprocess)\n",
    "\t.cache()\n",
    "\t.batch(32)\n",
    "\t.prefetch(AUTOTUNE)\n",
    ")"
   ]
  },
  {
   "cell_type": "code",
   "execution_count": 90,
   "metadata": {},
   "outputs": [
    {
     "data": {
      "text/plain": [
       "(3925, 1000)"
      ]
     },
     "execution_count": 90,
     "metadata": {},
     "output_type": "execute_result"
    }
   ],
   "source": [
    "val_labels.shape"
   ]
  },
  {
   "cell_type": "code",
   "execution_count": 91,
   "metadata": {},
   "outputs": [
    {
     "name": "stdout",
     "output_type": "stream",
     "text": [
      "<keras.layers.convolutional.conv2d.Conv2D object at 0x000001360F206888>\n",
      "<keras.layers.convolutional.conv2d.Conv2D object at 0x00000137F893CB88>\n",
      "<keras.layers.convolutional.conv2d.Conv2D object at 0x0000013653C71488>\n",
      "<keras.layers.convolutional.conv2d.Conv2D object at 0x0000013653950388>\n",
      "<keras.layers.convolutional.conv2d.Conv2D object at 0x0000013653CD5448>\n",
      "<keras.layers.convolutional.conv2d.Conv2D object at 0x00000137F9478108>\n",
      "<keras.layers.convolutional.conv2d.Conv2D object at 0x0000013801558E88>\n",
      "<keras.layers.convolutional.conv2d.Conv2D object at 0x000001380155C108>\n",
      "<keras.layers.convolutional.conv2d.Conv2D object at 0x0000013800487288>\n",
      "<keras.layers.convolutional.conv2d.Conv2D object at 0x0000013801522F48>\n",
      "<keras.layers.convolutional.conv2d.Conv2D object at 0x0000013653B0F248>\n",
      "<keras.layers.convolutional.conv2d.Conv2D object at 0x00000136539BD3C8>\n",
      "<keras.layers.convolutional.conv2d.Conv2D object at 0x0000013653454B08>\n",
      "<keras.layers.convolutional.conv2d.Conv2D object at 0x0000013616B6F488>\n",
      "<keras.layers.convolutional.conv2d.Conv2D object at 0x0000013678E0AF48>\n",
      "<keras.layers.convolutional.conv2d.Conv2D object at 0x00000137FCEC2FC8>\n",
      "<keras.layers.convolutional.conv2d.Conv2D object at 0x0000013616B6DAC8>\n",
      "conv1_conv\n",
      "conv2_block1_2_conv\n",
      "conv2_block2_2_conv\n",
      "conv2_block3_2_conv\n",
      "conv3_block1_2_conv\n",
      "conv3_block2_2_conv\n",
      "conv3_block3_2_conv\n",
      "conv3_block4_2_conv\n",
      "conv4_block1_2_conv\n",
      "conv4_block2_2_conv\n",
      "conv4_block3_2_conv\n",
      "conv4_block4_2_conv\n",
      "conv4_block5_2_conv\n",
      "conv4_block6_2_conv\n",
      "conv5_block1_2_conv\n",
      "conv5_block2_2_conv\n",
      "conv5_block3_2_conv\n"
     ]
    }
   ],
   "source": [
    "model_rot = rotate(model, list(range(len(conv_layers))))\n",
    "model_rot.compile(loss=keras.losses.CategoricalCrossentropy(from_logits=False),            \n",
    "\t\t\tmetrics=[\n",
    "\t\t\t\tkeras.metrics.CategoricalAccuracy(name=\"accuracy\"),\n",
    "\t\t\t\tkeras.metrics.TopKCategoricalAccuracy(5, name=\"top-5-accuracy\"),])"
   ]
  },
  {
   "cell_type": "code",
   "execution_count": 92,
   "metadata": {},
   "outputs": [
    {
     "name": "stdout",
     "output_type": "stream",
     "text": [
      "(128, 128)\n"
     ]
    },
    {
     "data": {
      "image/png": "[encoded data removed]",
      "text/plain": [
       "<Figure size 600x600 with 1 Axes>"
      ]
     },
     "metadata": {},
     "output_type": "display_data"
    }
   ],
   "source": [
    "\n",
    "F = 7\n",
    "fig, ax = plt.subplots(1,1,figsize = (1,1))\n",
    "\n",
    "filters = get_filter(model_rot,5)  #[:,:,:, top10F.indices.numpy()]\n",
    "filters = filters #/ np.sqrt(reduce_variance(filters, axis=None))\n",
    "theta = getSobelTF(filters)\n",
    "dc = np.sign(np.mean(filters, axis=(0,1)))\n",
    "#idx = tf.where(tf.less(dc[:, F],0))[:,0].numpy()\n",
    "s, a = getSymAntiSymTF(filters)\n",
    "a_mag = reduce_euclidean_norm(a, axis=[0,1])\n",
    "s_mag = reduce_euclidean_norm(s, axis=[0,1])\n",
    "mag = reduce_euclidean_norm(filters, axis=[0,1])\n",
    "print(mag.shape)\n",
    "x =a_mag[:,F]*np.cos((theta[:,F]))\n",
    "y = a_mag[:,F]*np.sin((theta[:,F]))\n",
    "lim_x = np.max(np.abs(x))\n",
    "lim_y = np.max(np.abs(y))\n",
    "lim = np.max([lim_x, lim_y])\n",
    "lim =np.max(np.abs(mag[:, F]))    \n",
    "lim*= 1\n",
    "\n",
    "ax.set_xlim(-lim, lim)\n",
    "ax.set_ylim(-lim, lim)\n",
    "ax.scatter(x,y, s=2, color='#E24A33')\n",
    "ax.set_box_aspect(1)\n",
    "ax.set_xticks([])\n",
    "ax.set_yticks([])\n",
    "ax.set_aspect('equal')\n",
    "ax.collections[0].set_rasterized(True)\n",
    "\n",
    "plt.show()\n"
   ]
  },
  {
   "cell_type": "code",
   "execution_count": 93,
   "metadata": {},
   "outputs": [
    {
     "name": "stdout",
     "output_type": "stream",
     "text": [
      "123/123 [==============================] - 26s 190ms/step - loss: 2.3469 - accuracy: 0.4973 - top-5-accuracy: 0.7167\n"
     ]
    },
    {
     "data": {
      "text/plain": [
       "[2.346891403198242, 0.4973248541355133, 0.7166879177093506]"
      ]
     },
     "execution_count": 93,
     "metadata": {},
     "output_type": "execute_result"
    }
   ],
   "source": [
    "model_rot.evaluate(valDS)"
   ]
  },
  {
   "cell_type": "code",
   "execution_count": null,
   "metadata": {},
   "outputs": [],
   "source": []
  },
  {
   "cell_type": "code",
   "execution_count": 94,
   "metadata": {},
   "outputs": [
    {
     "name": "stdout",
     "output_type": "stream",
     "text": [
      "123/123 [==============================] - 13s 95ms/step - loss: 0.3787 - accuracy: 0.8917 - top-5-accuracy: 0.9834\n"
     ]
    },
    {
     "data": {
      "text/plain": [
       "[0.3786778450012207, 0.8917197585105896, 0.9834395051002502]"
      ]
     },
     "execution_count": 94,
     "metadata": {},
     "output_type": "execute_result"
    }
   ],
   "source": [
    "model.evaluate(valDS)"
   ]
  },
  {
   "cell_type": "code",
   "execution_count": null,
   "metadata": {},
   "outputs": [],
   "source": []
  }
 ],
 "metadata": {
  "kernelspec": {
   "display_name": "masters",
   "language": "python",
   "name": "python3"
  },
  "language_info": {
   "codemirror_mode": {
    "name": "ipython",
    "version": 3
   },
   "file_extension": ".py",
   "mimetype": "text/x-python",
   "name": "python",
   "nbconvert_exporter": "python",
   "pygments_lexer": "ipython3",
   "version": "3.7.16"
  }
 },
 "nbformat": 4,
 "nbformat_minor": 2
}
